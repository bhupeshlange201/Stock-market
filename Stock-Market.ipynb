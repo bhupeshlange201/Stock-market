{
 "cells": [
  {
   "cell_type": "code",
   "execution_count": 1,
   "metadata": {},
   "outputs": [],
   "source": [
    "import pandas as pd\n",
    "import seaborn as sns\n",
    "import matplotlib.pyplot as plt"
   ]
  },
  {
   "cell_type": "code",
   "execution_count": 2,
   "metadata": {},
   "outputs": [],
   "source": [
    "df=pd.read_csv('ADANIPORTS.csv')"
   ]
  },
  {
   "cell_type": "code",
   "execution_count": 3,
   "metadata": {},
   "outputs": [
    {
     "data": {
      "text/html": [
       "<div>\n",
       "<style scoped>\n",
       "    .dataframe tbody tr th:only-of-type {\n",
       "        vertical-align: middle;\n",
       "    }\n",
       "\n",
       "    .dataframe tbody tr th {\n",
       "        vertical-align: top;\n",
       "    }\n",
       "\n",
       "    .dataframe thead th {\n",
       "        text-align: right;\n",
       "    }\n",
       "</style>\n",
       "<table border=\"1\" class=\"dataframe\">\n",
       "  <thead>\n",
       "    <tr style=\"text-align: right;\">\n",
       "      <th></th>\n",
       "      <th>Date</th>\n",
       "      <th>Symbol</th>\n",
       "      <th>Series</th>\n",
       "      <th>Prev Close</th>\n",
       "      <th>Open</th>\n",
       "      <th>High</th>\n",
       "      <th>Low</th>\n",
       "      <th>Last</th>\n",
       "      <th>Close</th>\n",
       "      <th>VWAP</th>\n",
       "      <th>Volume</th>\n",
       "      <th>Turnover</th>\n",
       "      <th>Trades</th>\n",
       "      <th>Deliverable Volume</th>\n",
       "      <th>%Deliverble</th>\n",
       "    </tr>\n",
       "  </thead>\n",
       "  <tbody>\n",
       "    <tr>\n",
       "      <th>0</th>\n",
       "      <td>2007-11-27</td>\n",
       "      <td>MUNDRAPORT</td>\n",
       "      <td>EQ</td>\n",
       "      <td>440.00</td>\n",
       "      <td>770.00</td>\n",
       "      <td>1050.00</td>\n",
       "      <td>770.0</td>\n",
       "      <td>959.0</td>\n",
       "      <td>962.90</td>\n",
       "      <td>984.72</td>\n",
       "      <td>27294366</td>\n",
       "      <td>2.687719e+15</td>\n",
       "      <td>NaN</td>\n",
       "      <td>9859619</td>\n",
       "      <td>0.3612</td>\n",
       "    </tr>\n",
       "    <tr>\n",
       "      <th>1</th>\n",
       "      <td>2007-11-28</td>\n",
       "      <td>MUNDRAPORT</td>\n",
       "      <td>EQ</td>\n",
       "      <td>962.90</td>\n",
       "      <td>984.00</td>\n",
       "      <td>990.00</td>\n",
       "      <td>874.0</td>\n",
       "      <td>885.0</td>\n",
       "      <td>893.90</td>\n",
       "      <td>941.38</td>\n",
       "      <td>4581338</td>\n",
       "      <td>4.312765e+14</td>\n",
       "      <td>NaN</td>\n",
       "      <td>1453278</td>\n",
       "      <td>0.3172</td>\n",
       "    </tr>\n",
       "    <tr>\n",
       "      <th>2</th>\n",
       "      <td>2007-11-29</td>\n",
       "      <td>MUNDRAPORT</td>\n",
       "      <td>EQ</td>\n",
       "      <td>893.90</td>\n",
       "      <td>909.00</td>\n",
       "      <td>914.75</td>\n",
       "      <td>841.0</td>\n",
       "      <td>887.0</td>\n",
       "      <td>884.20</td>\n",
       "      <td>888.09</td>\n",
       "      <td>5124121</td>\n",
       "      <td>4.550658e+14</td>\n",
       "      <td>NaN</td>\n",
       "      <td>1069678</td>\n",
       "      <td>0.2088</td>\n",
       "    </tr>\n",
       "    <tr>\n",
       "      <th>3</th>\n",
       "      <td>2007-11-30</td>\n",
       "      <td>MUNDRAPORT</td>\n",
       "      <td>EQ</td>\n",
       "      <td>884.20</td>\n",
       "      <td>890.00</td>\n",
       "      <td>958.00</td>\n",
       "      <td>890.0</td>\n",
       "      <td>929.0</td>\n",
       "      <td>921.55</td>\n",
       "      <td>929.17</td>\n",
       "      <td>4609762</td>\n",
       "      <td>4.283257e+14</td>\n",
       "      <td>NaN</td>\n",
       "      <td>1260913</td>\n",
       "      <td>0.2735</td>\n",
       "    </tr>\n",
       "    <tr>\n",
       "      <th>4</th>\n",
       "      <td>2007-12-03</td>\n",
       "      <td>MUNDRAPORT</td>\n",
       "      <td>EQ</td>\n",
       "      <td>921.55</td>\n",
       "      <td>939.75</td>\n",
       "      <td>995.00</td>\n",
       "      <td>922.0</td>\n",
       "      <td>980.0</td>\n",
       "      <td>969.30</td>\n",
       "      <td>965.65</td>\n",
       "      <td>2977470</td>\n",
       "      <td>2.875200e+14</td>\n",
       "      <td>NaN</td>\n",
       "      <td>816123</td>\n",
       "      <td>0.2741</td>\n",
       "    </tr>\n",
       "  </tbody>\n",
       "</table>\n",
       "</div>"
      ],
      "text/plain": [
       "         Date      Symbol Series  Prev Close    Open     High    Low   Last  \\\n",
       "0  2007-11-27  MUNDRAPORT     EQ      440.00  770.00  1050.00  770.0  959.0   \n",
       "1  2007-11-28  MUNDRAPORT     EQ      962.90  984.00   990.00  874.0  885.0   \n",
       "2  2007-11-29  MUNDRAPORT     EQ      893.90  909.00   914.75  841.0  887.0   \n",
       "3  2007-11-30  MUNDRAPORT     EQ      884.20  890.00   958.00  890.0  929.0   \n",
       "4  2007-12-03  MUNDRAPORT     EQ      921.55  939.75   995.00  922.0  980.0   \n",
       "\n",
       "    Close    VWAP    Volume      Turnover  Trades  Deliverable Volume  \\\n",
       "0  962.90  984.72  27294366  2.687719e+15     NaN             9859619   \n",
       "1  893.90  941.38   4581338  4.312765e+14     NaN             1453278   \n",
       "2  884.20  888.09   5124121  4.550658e+14     NaN             1069678   \n",
       "3  921.55  929.17   4609762  4.283257e+14     NaN             1260913   \n",
       "4  969.30  965.65   2977470  2.875200e+14     NaN              816123   \n",
       "\n",
       "   %Deliverble  \n",
       "0       0.3612  \n",
       "1       0.3172  \n",
       "2       0.2088  \n",
       "3       0.2735  \n",
       "4       0.2741  "
      ]
     },
     "execution_count": 3,
     "metadata": {},
     "output_type": "execute_result"
    }
   ],
   "source": [
    "df.head()"
   ]
  },
  {
   "cell_type": "code",
   "execution_count": 4,
   "metadata": {},
   "outputs": [
    {
     "data": {
      "text/plain": [
       "(3220, 15)"
      ]
     },
     "execution_count": 4,
     "metadata": {},
     "output_type": "execute_result"
    }
   ],
   "source": [
    "df.shape"
   ]
  },
  {
   "cell_type": "code",
   "execution_count": 5,
   "metadata": {},
   "outputs": [
    {
     "name": "stdout",
     "output_type": "stream",
     "text": [
      "<class 'pandas.core.frame.DataFrame'>\n",
      "RangeIndex: 3220 entries, 0 to 3219\n",
      "Data columns (total 15 columns):\n",
      " #   Column              Non-Null Count  Dtype  \n",
      "---  ------              --------------  -----  \n",
      " 0   Date                3220 non-null   object \n",
      " 1   Symbol              3220 non-null   object \n",
      " 2   Series              3220 non-null   object \n",
      " 3   Prev Close          3220 non-null   float64\n",
      " 4   Open                3220 non-null   float64\n",
      " 5   High                3220 non-null   float64\n",
      " 6   Low                 3220 non-null   float64\n",
      " 7   Last                3220 non-null   float64\n",
      " 8   Close               3220 non-null   float64\n",
      " 9   VWAP                3220 non-null   float64\n",
      " 10  Volume              3220 non-null   int64  \n",
      " 11  Turnover            3220 non-null   float64\n",
      " 12  Trades              2354 non-null   float64\n",
      " 13  Deliverable Volume  3220 non-null   int64  \n",
      " 14  %Deliverble         3220 non-null   float64\n",
      "dtypes: float64(10), int64(2), object(3)\n",
      "memory usage: 339.7+ KB\n"
     ]
    }
   ],
   "source": [
    "df.info()"
   ]
  },
  {
   "cell_type": "code",
   "execution_count": 6,
   "metadata": {},
   "outputs": [
    {
     "data": {
      "image/png": "[encoded data removed]",
      "text/plain": [
       "<Figure size 360x360 with 1 Axes>"
      ]
     },
     "metadata": {
      "needs_background": "light"
     },
     "output_type": "display_data"
    }
   ],
   "source": [
    "sns.catplot(x=\"Symbol\", y=\"Deliverable Volume\", kind=\"bar\", data=df);"
   ]
  },
  {
   "cell_type": "code",
   "execution_count": 7,
   "metadata": {},
   "outputs": [
    {
     "data": {
      "image/png": "[encoded data removed]",
      "text/plain": [
       "<Figure size 432x288 with 1 Axes>"
      ]
     },
     "metadata": {
      "needs_background": "light"
     },
     "output_type": "display_data"
    }
   ],
   "source": [
    "sns.scatterplot(x='VWAP',y='Volume',data=df);"
   ]
  },
  {
   "cell_type": "code",
   "execution_count": 8,
   "metadata": {},
   "outputs": [
    {
     "data": {
      "text/plain": [
       "Date                    0\n",
       "Symbol                  0\n",
       "Series                  0\n",
       "Prev Close              0\n",
       "Open                    0\n",
       "High                    0\n",
       "Low                     0\n",
       "Last                    0\n",
       "Close                   0\n",
       "VWAP                    0\n",
       "Volume                  0\n",
       "Turnover                0\n",
       "Trades                866\n",
       "Deliverable Volume      0\n",
       "%Deliverble             0\n",
       "dtype: int64"
      ]
     },
     "execution_count": 8,
     "metadata": {},
     "output_type": "execute_result"
    }
   ],
   "source": [
    "df.isnull().sum()"
   ]
  },
  {
   "cell_type": "code",
   "execution_count": 9,
   "metadata": {},
   "outputs": [
    {
     "name": "stderr",
     "output_type": "stream",
     "text": [
      "c:\\users\\bhupesh\\appdata\\local\\programs\\python\\python38-32\\lib\\site-packages\\seaborn\\distributions.py:2551: FutureWarning: `distplot` is a deprecated function and will be removed in a future version. Please adapt your code to use either `displot` (a figure-level function with similar flexibility) or `histplot` (an axes-level function for histograms).\n",
      "  warnings.warn(msg, FutureWarning)\n"
     ]
    },
    {
     "data": {
      "image/png": "[encoded data removed]",
      "text/plain": [
       "<Figure size 432x288 with 1 Axes>"
      ]
     },
     "metadata": {
      "needs_background": "light"
     },
     "output_type": "display_data"
    }
   ],
   "source": [
    "sns.distplot(df['Trades']);"
   ]
  },
  {
   "cell_type": "code",
   "execution_count": 10,
   "metadata": {},
   "outputs": [
    {
     "data": {
      "text/plain": [
       "0            NaN\n",
       "1            NaN\n",
       "2            NaN\n",
       "3            NaN\n",
       "4            NaN\n",
       "          ...   \n",
       "3215     49565.0\n",
       "3216    200786.0\n",
       "3217    186507.0\n",
       "3218    141046.0\n",
       "3219    103550.0\n",
       "Name: Trades, Length: 3220, dtype: float64"
      ]
     },
     "execution_count": 10,
     "metadata": {},
     "output_type": "execute_result"
    }
   ],
   "source": [
    "df['Trades']"
   ]
  },
  {
   "cell_type": "code",
   "execution_count": 11,
   "metadata": {},
   "outputs": [
    {
     "data": {
      "image/png": "[encoded data removed]",
      "text/plain": [
       "<Figure size 466.5x360 with 1 Axes>"
      ]
     },
     "metadata": {
      "needs_background": "light"
     },
     "output_type": "display_data"
    }
   ],
   "source": [
    "sns.relplot(x='Turnover',y='Trades',hue='Symbol',data=df);"
   ]
  },
  {
   "cell_type": "code",
   "execution_count": 12,
   "metadata": {},
   "outputs": [],
   "source": [
    "df['Trades']=df['Trades'].fillna(df['Trades'].mean())"
   ]
  },
  {
   "cell_type": "code",
   "execution_count": 13,
   "metadata": {},
   "outputs": [
    {
     "data": {
      "text/plain": [
       "Date                  0\n",
       "Symbol                0\n",
       "Series                0\n",
       "Prev Close            0\n",
       "Open                  0\n",
       "High                  0\n",
       "Low                   0\n",
       "Last                  0\n",
       "Close                 0\n",
       "VWAP                  0\n",
       "Volume                0\n",
       "Turnover              0\n",
       "Trades                0\n",
       "Deliverable Volume    0\n",
       "%Deliverble           0\n",
       "dtype: int64"
      ]
     },
     "execution_count": 13,
     "metadata": {},
     "output_type": "execute_result"
    }
   ],
   "source": [
    "df.isnull().sum()"
   ]
  },
  {
   "cell_type": "code",
   "execution_count": 14,
   "metadata": {},
   "outputs": [
    {
     "data": {
      "text/html": [
       "<div>\n",
       "<style scoped>\n",
       "    .dataframe tbody tr th:only-of-type {\n",
       "        vertical-align: middle;\n",
       "    }\n",
       "\n",
       "    .dataframe tbody tr th {\n",
       "        vertical-align: top;\n",
       "    }\n",
       "\n",
       "    .dataframe thead th {\n",
       "        text-align: right;\n",
       "    }\n",
       "</style>\n",
       "<table border=\"1\" class=\"dataframe\">\n",
       "  <thead>\n",
       "    <tr style=\"text-align: right;\">\n",
       "      <th></th>\n",
       "      <th>Prev Close</th>\n",
       "      <th>Open</th>\n",
       "      <th>High</th>\n",
       "      <th>Low</th>\n",
       "      <th>Last</th>\n",
       "      <th>Close</th>\n",
       "      <th>VWAP</th>\n",
       "      <th>Volume</th>\n",
       "      <th>Turnover</th>\n",
       "      <th>Trades</th>\n",
       "      <th>Deliverable Volume</th>\n",
       "      <th>%Deliverble</th>\n",
       "    </tr>\n",
       "  </thead>\n",
       "  <tbody>\n",
       "    <tr>\n",
       "      <th>count</th>\n",
       "      <td>3220.000000</td>\n",
       "      <td>3220.000000</td>\n",
       "      <td>3220.000000</td>\n",
       "      <td>3220.000000</td>\n",
       "      <td>3220.000000</td>\n",
       "      <td>3220.000000</td>\n",
       "      <td>3220.000000</td>\n",
       "      <td>3.220000e+03</td>\n",
       "      <td>3.220000e+03</td>\n",
       "      <td>3220.000000</td>\n",
       "      <td>3.220000e+03</td>\n",
       "      <td>3220.000000</td>\n",
       "    </tr>\n",
       "    <tr>\n",
       "      <th>mean</th>\n",
       "      <td>335.719705</td>\n",
       "      <td>336.308416</td>\n",
       "      <td>342.948602</td>\n",
       "      <td>329.266522</td>\n",
       "      <td>335.763540</td>\n",
       "      <td>335.710870</td>\n",
       "      <td>336.374118</td>\n",
       "      <td>2.591314e+06</td>\n",
       "      <td>7.970847e+13</td>\n",
       "      <td>39191.442226</td>\n",
       "      <td>1.178539e+06</td>\n",
       "      <td>0.454627</td>\n",
       "    </tr>\n",
       "    <tr>\n",
       "      <th>std</th>\n",
       "      <td>188.880768</td>\n",
       "      <td>189.505197</td>\n",
       "      <td>194.402086</td>\n",
       "      <td>184.660834</td>\n",
       "      <td>189.045527</td>\n",
       "      <td>188.876554</td>\n",
       "      <td>189.716655</td>\n",
       "      <td>2.792974e+06</td>\n",
       "      <td>1.020098e+14</td>\n",
       "      <td>23233.164434</td>\n",
       "      <td>1.389956e+06</td>\n",
       "      <td>0.154746</td>\n",
       "    </tr>\n",
       "    <tr>\n",
       "      <th>min</th>\n",
       "      <td>108.000000</td>\n",
       "      <td>108.000000</td>\n",
       "      <td>110.450000</td>\n",
       "      <td>105.650000</td>\n",
       "      <td>108.000000</td>\n",
       "      <td>108.000000</td>\n",
       "      <td>108.340000</td>\n",
       "      <td>1.236600e+04</td>\n",
       "      <td>2.415857e+11</td>\n",
       "      <td>366.000000</td>\n",
       "      <td>5.383000e+03</td>\n",
       "      <td>0.083400</td>\n",
       "    </tr>\n",
       "    <tr>\n",
       "      <th>25%</th>\n",
       "      <td>161.237500</td>\n",
       "      <td>161.800000</td>\n",
       "      <td>164.225000</td>\n",
       "      <td>158.900000</td>\n",
       "      <td>161.037500</td>\n",
       "      <td>161.237500</td>\n",
       "      <td>161.625000</td>\n",
       "      <td>7.180275e+05</td>\n",
       "      <td>1.742661e+13</td>\n",
       "      <td>25909.500000</td>\n",
       "      <td>3.089278e+05</td>\n",
       "      <td>0.345975</td>\n",
       "    </tr>\n",
       "    <tr>\n",
       "      <th>50%</th>\n",
       "      <td>320.300000</td>\n",
       "      <td>321.650000</td>\n",
       "      <td>326.500000</td>\n",
       "      <td>315.050000</td>\n",
       "      <td>320.250000</td>\n",
       "      <td>320.300000</td>\n",
       "      <td>321.220000</td>\n",
       "      <td>1.934630e+06</td>\n",
       "      <td>5.558801e+13</td>\n",
       "      <td>39191.442226</td>\n",
       "      <td>7.787095e+05</td>\n",
       "      <td>0.453550</td>\n",
       "    </tr>\n",
       "    <tr>\n",
       "      <th>75%</th>\n",
       "      <td>391.600000</td>\n",
       "      <td>392.000000</td>\n",
       "      <td>397.525000</td>\n",
       "      <td>386.000000</td>\n",
       "      <td>391.800000</td>\n",
       "      <td>391.600000</td>\n",
       "      <td>391.530000</td>\n",
       "      <td>3.428772e+06</td>\n",
       "      <td>1.086184e+14</td>\n",
       "      <td>43484.250000</td>\n",
       "      <td>1.554203e+06</td>\n",
       "      <td>0.559350</td>\n",
       "    </tr>\n",
       "    <tr>\n",
       "      <th>max</th>\n",
       "      <td>1307.450000</td>\n",
       "      <td>1310.250000</td>\n",
       "      <td>1324.000000</td>\n",
       "      <td>1270.000000</td>\n",
       "      <td>1308.000000</td>\n",
       "      <td>1307.450000</td>\n",
       "      <td>1302.150000</td>\n",
       "      <td>3.011128e+07</td>\n",
       "      <td>2.687719e+15</td>\n",
       "      <td>247483.000000</td>\n",
       "      <td>2.241652e+07</td>\n",
       "      <td>0.979800</td>\n",
       "    </tr>\n",
       "  </tbody>\n",
       "</table>\n",
       "</div>"
      ],
      "text/plain": [
       "        Prev Close         Open         High          Low         Last  \\\n",
       "count  3220.000000  3220.000000  3220.000000  3220.000000  3220.000000   \n",
       "mean    335.719705   336.308416   342.948602   329.266522   335.763540   \n",
       "std     188.880768   189.505197   194.402086   184.660834   189.045527   \n",
       "min     108.000000   108.000000   110.450000   105.650000   108.000000   \n",
       "25%     161.237500   161.800000   164.225000   158.900000   161.037500   \n",
       "50%     320.300000   321.650000   326.500000   315.050000   320.250000   \n",
       "75%     391.600000   392.000000   397.525000   386.000000   391.800000   \n",
       "max    1307.450000  1310.250000  1324.000000  1270.000000  1308.000000   \n",
       "\n",
       "             Close         VWAP        Volume      Turnover         Trades  \\\n",
       "count  3220.000000  3220.000000  3.220000e+03  3.220000e+03    3220.000000   \n",
       "mean    335.710870   336.374118  2.591314e+06  7.970847e+13   39191.442226   \n",
       "std     188.876554   189.716655  2.792974e+06  1.020098e+14   23233.164434   \n",
       "min     108.000000   108.340000  1.236600e+04  2.415857e+11     366.000000   \n",
       "25%     161.237500   161.625000  7.180275e+05  1.742661e+13   25909.500000   \n",
       "50%     320.300000   321.220000  1.934630e+06  5.558801e+13   39191.442226   \n",
       "75%     391.600000   391.530000  3.428772e+06  1.086184e+14   43484.250000   \n",
       "max    1307.450000  1302.150000  3.011128e+07  2.687719e+15  247483.000000   \n",
       "\n",
       "       Deliverable Volume  %Deliverble  \n",
       "count        3.220000e+03  3220.000000  \n",
       "mean         1.178539e+06     0.454627  \n",
       "std          1.389956e+06     0.154746  \n",
       "min          5.383000e+03     0.083400  \n",
       "25%          3.089278e+05     0.345975  \n",
       "50%          7.787095e+05     0.453550  \n",
       "75%          1.554203e+06     0.559350  \n",
       "max          2.241652e+07     0.979800  "
      ]
     },
     "execution_count": 14,
     "metadata": {},
     "output_type": "execute_result"
    }
   ],
   "source": [
    "df.describe()"
   ]
  },
  {
   "cell_type": "code",
   "execution_count": 15,
   "metadata": {},
   "outputs": [
    {
     "data": {
      "image/png": "[encoded data removed]",
      "text/plain": [
       "<Figure size 1080x720 with 2 Axes>"
      ]
     },
     "metadata": {
      "needs_background": "light"
     },
     "output_type": "display_data"
    }
   ],
   "source": [
    "plt.figure(figsize=(15,10))\n",
    "sns.heatmap(df.corr(),annot=True,cmap='rainbow',linewidths=1);"
   ]
  },
  {
   "cell_type": "code",
   "execution_count": 16,
   "metadata": {},
   "outputs": [],
   "source": [
    "# Split the model into training and testing dataset"
   ]
  },
  {
   "cell_type": "code",
   "execution_count": 17,
   "metadata": {},
   "outputs": [],
   "source": [
    "y=df['Deliverable Volume']\n",
    "x=df[['Prev Close','Open','High','Low','Trades','Last','Close','VWAP','Volume','Turnover']]"
   ]
  },
  {
   "cell_type": "code",
   "execution_count": 18,
   "metadata": {},
   "outputs": [],
   "source": [
    "from sklearn.model_selection import train_test_split"
   ]
  },
  {
   "cell_type": "code",
   "execution_count": 19,
   "metadata": {},
   "outputs": [],
   "source": [
    "x_train,x_test,y_train,y_test=train_test_split(x,y,test_size=0.25,random_state=42)"
   ]
  },
  {
   "cell_type": "code",
   "execution_count": 20,
   "metadata": {},
   "outputs": [],
   "source": [
    "from sklearn.preprocessing import MinMaxScaler"
   ]
  },
  {
   "cell_type": "code",
   "execution_count": 21,
   "metadata": {},
   "outputs": [],
   "source": [
    "scaler=MinMaxScaler()"
   ]
  },
  {
   "cell_type": "code",
   "execution_count": 22,
   "metadata": {},
   "outputs": [],
   "source": [
    "x_train=scaler.fit_transform(x_train)"
   ]
  },
  {
   "cell_type": "code",
   "execution_count": 23,
   "metadata": {},
   "outputs": [],
   "source": [
    "x_test=scaler.transform(x_test)"
   ]
  },
  {
   "cell_type": "code",
   "execution_count": 24,
   "metadata": {},
   "outputs": [],
   "source": [
    "from sklearn.linear_model import LinearRegression"
   ]
  },
  {
   "cell_type": "code",
   "execution_count": 25,
   "metadata": {},
   "outputs": [],
   "source": [
    "lr=LinearRegression()"
   ]
  },
  {
   "cell_type": "code",
   "execution_count": 26,
   "metadata": {},
   "outputs": [
    {
     "data": {
      "text/plain": [
       "LinearRegression()"
      ]
     },
     "execution_count": 26,
     "metadata": {},
     "output_type": "execute_result"
    }
   ],
   "source": [
    "lr.fit(x_train,y_train)"
   ]
  },
  {
   "cell_type": "code",
   "execution_count": 27,
   "metadata": {},
   "outputs": [
    {
     "data": {
      "text/plain": [
       "0.83582303685515"
      ]
     },
     "execution_count": 27,
     "metadata": {},
     "output_type": "execute_result"
    }
   ],
   "source": [
    "lr.score(x_test,y_test)"
   ]
  },
  {
   "cell_type": "code",
   "execution_count": 28,
   "metadata": {},
   "outputs": [],
   "source": [
    "#we use Regularization method to increase our accuracy "
   ]
  },
  {
   "cell_type": "code",
   "execution_count": 29,
   "metadata": {},
   "outputs": [],
   "source": [
    "from sklearn.linear_model import Ridge"
   ]
  },
  {
   "cell_type": "code",
   "execution_count": 30,
   "metadata": {},
   "outputs": [],
   "source": [
    "ridge=Ridge(alpha=0.5)"
   ]
  },
  {
   "cell_type": "code",
   "execution_count": 31,
   "metadata": {},
   "outputs": [
    {
     "data": {
      "text/plain": [
       "Ridge(alpha=0.5)"
      ]
     },
     "execution_count": 31,
     "metadata": {},
     "output_type": "execute_result"
    }
   ],
   "source": [
    "ridge.fit(x_train,y_train)"
   ]
  },
  {
   "cell_type": "code",
   "execution_count": 32,
   "metadata": {},
   "outputs": [
    {
     "data": {
      "text/plain": [
       "0.8606065779447899"
      ]
     },
     "execution_count": 32,
     "metadata": {},
     "output_type": "execute_result"
    }
   ],
   "source": [
    "ridge.score(x_test,y_test)"
   ]
  },
  {
   "cell_type": "code",
   "execution_count": 33,
   "metadata": {},
   "outputs": [],
   "source": [
    "#Making prediction"
   ]
  },
  {
   "cell_type": "code",
   "execution_count": 34,
   "metadata": {},
   "outputs": [],
   "source": [
    "from sklearn.metrics import mean_absolute_error,mean_squared_error"
   ]
  },
  {
   "cell_type": "code",
   "execution_count": 35,
   "metadata": {},
   "outputs": [],
   "source": [
    "y_pred= ridge.predict(x_test)"
   ]
  },
  {
   "cell_type": "code",
   "execution_count": 36,
   "metadata": {},
   "outputs": [
    {
     "name": "stdout",
     "output_type": "stream",
     "text": [
      "Mean_absolute_error 314507.33891097654\n",
      "Mean_squared_error 279771655558.77545\n"
     ]
    }
   ],
   "source": [
    "MAE=mean_absolute_error(y_test,y_pred)\n",
    "MSE=mean_squared_error(y_test,y_pred)\n",
    "print('Mean_absolute_error',MAE)\n",
    "print('Mean_squared_error',MSE)"
   ]
  },
  {
   "cell_type": "code",
   "execution_count": null,
   "metadata": {},
   "outputs": [],
   "source": []
  }
 ],
 "metadata": {
  "kernelspec": {
   "display_name": "Python 3",
   "language": "python",
   "name": "python3"
  },
  "language_info": {
   "codemirror_mode": {
    "name": "ipython",
    "version": 3
   },
   "file_extension": ".py",
   "mimetype": "text/x-python",
   "name": "python",
   "nbconvert_exporter": "python",
   "pygments_lexer": "ipython3",
   "version": "3.8.4"
  }
 },
 "nbformat": 4,
 "nbformat_minor": 4
}
